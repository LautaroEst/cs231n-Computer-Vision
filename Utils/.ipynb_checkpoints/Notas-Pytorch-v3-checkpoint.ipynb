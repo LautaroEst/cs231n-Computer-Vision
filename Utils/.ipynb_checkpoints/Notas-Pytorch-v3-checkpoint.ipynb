{
 "cells": [
  {
   "cell_type": "code",
   "execution_count": 1,
   "metadata": {},
   "outputs": [],
   "source": [
    "import torch"
   ]
  },
  {
   "cell_type": "markdown",
   "metadata": {},
   "source": [
    "# Notas Pytorch (versión 3)\n",
    "\n",
    "El procedimiento para hacer un modelo neuronal en pytorch es siempre el mismo:\n",
    "\n",
    "1. Programar una función `GetDataLoaders()` que devuelva los dataloaders de los conjuntos de entrenamiento, validación y testeo de un dataset específico.\n",
    "\n",
    "2. Definir la forma del modelo neuronal y hacer una subclase de `torch.nn.Module` que lo represente.\n",
    "\n",
    "3. Entrenar el modelo. Para esto, se hace una función `ModelTrain()` que obtenga los parámetros del modelo anterior a partir del conjunto de entrenamiento y calcule la performance del mismo sobre el conjunto de validación. Este proceso es iterativo y se repite hasta encontrar la mejor performance sobre el conjunto de validación. Luego, se ven los resultados en el conjunto de testeo. "
   ]
  }
 ],
 "metadata": {
  "kernelspec": {
   "display_name": "Python 3",
   "language": "python",
   "name": "python3"
  },
  "language_info": {
   "codemirror_mode": {
    "name": "ipython",
    "version": 3
   },
   "file_extension": ".py",
   "mimetype": "text/x-python",
   "name": "python",
   "nbconvert_exporter": "python",
   "pygments_lexer": "ipython3",
   "version": "3.7.3"
  }
 },
 "nbformat": 4,
 "nbformat_minor": 2
}
