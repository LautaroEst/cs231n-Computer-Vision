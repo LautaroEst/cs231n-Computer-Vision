{
 "cells": [
  {
   "cell_type": "code",
   "execution_count": 1,
   "metadata": {},
   "outputs": [],
   "source": [
    "import torch\n",
    "\n",
    "from TorchDataUtils import *\n",
    "%load_ext autoreload\n",
    "%autoreload 2"
   ]
  },
  {
   "cell_type": "code",
   "execution_count": 3,
   "metadata": {},
   "outputs": [],
   "source": [
    "import torchvision.datasets as dset\n",
    "import torchvision.transforms as T\n",
    "\n",
    "transform = T.Compose([\n",
    "    T.ToTensor()\n",
    "])\n",
    "\n",
    "train_dataset = dset.MNIST(root='./', \n",
    "                           train=True, \n",
    "                           download=True, \n",
    "                           transform=transform, \n",
    "                           target_transform=None)\n",
    "\n",
    "test_dataset = dset.MNIST(root='./', \n",
    "                           train=False, \n",
    "                           download=True, \n",
    "                           transform=transform, \n",
    "                           target_transform=None)\n",
    "\n",
    "train_dataloader, val_dataloader, test_dataloader = generate_data_batches(train_dataset, test_dataset)"
   ]
  },
  {
   "cell_type": "code",
   "execution_count": 11,
   "metadata": {},
   "outputs": [],
   "source": [
    "import torch.nn as nn\n",
    "\n",
    "class SoftmaxClassifier(nn.Module):\n",
    "    \n",
    "    def __init__(self, n_input, n_output):\n",
    "        super(SoftmaxClassifier,self).__init__()\n",
    "        self.linear = nn.Linear(n_input, n_output)\n",
    "        \n",
    "    def forward(self, x):\n",
    "        n_batches = x.size(0)\n",
    "        return self.linear(x.view(n_batches, -1))\n",
    "    \n",
    "    def loss(self,scores, target):\n",
    "        lf = nn.CrossEntropyLoss()\n",
    "        return lf(scores, target)\n",
    "    \n",
    "sample_data = next(iter(train_dataloader))\n",
    "batch_size = sample_data[0].size(0)\n",
    "n_input = sample_data[0].view(batch_size,-1).size(1)\n",
    "n_output = 10\n",
    "model = SoftmaxClassifier(n_input, n_output)"
   ]
  },
  {
   "cell_type": "code",
   "execution_count": 15,
   "metadata": {},
   "outputs": [
    {
     "name": "stdout",
     "output_type": "stream",
     "text": [
      "Epoch: 0, Batch number: 0\n",
      "Accuracy on validation dataset: 1078/1200 \n",
      "\n",
      "Epoch: 0, Batch number: 100\n",
      "Accuracy on validation dataset: 1078/1200 \n",
      "\n",
      "Epoch: 0, Batch number: 200\n",
      "Accuracy on validation dataset: 1078/1200 \n",
      "\n",
      "Epoch: 0, Batch number: 300\n",
      "Accuracy on validation dataset: 1078/1200 \n",
      "\n",
      "Exiting training...\n",
      "Final accuracy on validation dataset: 89.83%\n"
     ]
    }
   ],
   "source": [
    "# Especificaciones de cómo adquirir los datos para entrenamiento:\n",
    "use_gpu = True\n",
    "if torch.cuda.is_available() and use_gpu:\n",
    "    device = torch.device('cuda')\n",
    "else:\n",
    "    device = torch.device('cpu')\n",
    "\n",
    "data = {\n",
    "    'device': device,\n",
    "    'input_dtype': torch.float,\n",
    "    'target_dtype': torch.long,\n",
    "    'train_dataloader': train_dataloader,\n",
    "    'val_dataloader': val_dataloader\n",
    "}\n",
    "\n",
    "# Hiperparámetros del modelo y otros:\n",
    "epochs = 10 # Cantidad de epochs\n",
    "sample_loss_every = 100 # Cantidad de iteraciones para calcular la cantidad de aciertos\n",
    "learning_rate = 1e-4 # Tasa de aprendizaje\n",
    "check_on_train = False # Queremos ver los resultados también en el train set\n",
    "\n",
    "# Entrenamiento:\n",
    "performance_history = SGDTrainModel(model, data, epochs, learning_rate, sample_loss_every, check_on_train)"
   ]
  }
 ],
 "metadata": {
  "kernelspec": {
   "display_name": "Python 3",
   "language": "python",
   "name": "python3"
  },
  "language_info": {
   "codemirror_mode": {
    "name": "ipython",
    "version": 3
   },
   "file_extension": ".py",
   "mimetype": "text/x-python",
   "name": "python",
   "nbconvert_exporter": "python",
   "pygments_lexer": "ipython3",
   "version": "3.7.3"
  }
 },
 "nbformat": 4,
 "nbformat_minor": 2
}
