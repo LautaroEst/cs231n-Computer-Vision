{
 "cells": [
  {
   "cell_type": "markdown",
   "metadata": {},
   "source": [
    "# Prueba 4\n",
    "\n",
    "Vamos a tratar de hacer una red que aprenda la XOR"
   ]
  },
  {
   "cell_type": "code",
   "execution_count": 23,
   "metadata": {},
   "outputs": [
    {
     "name": "stdout",
     "output_type": "stream",
     "text": [
      "The autoreload extension is already loaded. To reload it, use:\n",
      "  %reload_ext autoreload\n"
     ]
    }
   ],
   "source": [
    "import torch\n",
    "import torch.nn as nn\n",
    "import torch.nn.functional as F\n",
    "from torch.utils.data import Dataset, DataLoader, sampler\n",
    "\n",
    "\n",
    "import numpy as np\n",
    "import matplotlib.pyplot as plt\n",
    "\n",
    "%load_ext autoreload\n",
    "%autoreload 2"
   ]
  },
  {
   "cell_type": "code",
   "execution_count": 30,
   "metadata": {},
   "outputs": [],
   "source": [
    "class TrainDataset(Dataset):\n",
    "    \n",
    "    def __init__(self,n_samples):\n",
    "        self.in_data = torch.randint(low=0,high=2,size=(n_samples,2), requires_grad=False)\n",
    "        self.out_data = self.in_data[:,0] * self.in_data[:,1]\n",
    "\n",
    "    def __len__(self):\n",
    "        return len(self.out_data)\n",
    "    \n",
    "    def __getitem__(self,idx):\n",
    "        return self.in_data[idx], self.out_data[idx]\n",
    "    \n",
    "class ValidationDataset(Dataset):\n",
    "    \n",
    "    def __init__(self):\n",
    "        self.in_data = torch.tensor([[0, 0], [0, 1], [1, 0], [1, 1]], requires_grad=False)\n",
    "        self.out_data = torch.tensor([0, 0, 0, 1], requires_grad=False)\n",
    "\n",
    "    def __len__(self):\n",
    "        return len(self.in_data)\n",
    "    \n",
    "    def __getitem__(self,idx):\n",
    "        return self.in_data[idx], self.out_data[idx]\n",
    "\n",
    "batch_size = 64\n",
    "NUM_TRAIN = 49000\n",
    "\n",
    "train_dataset = TrainDataset(NUM_TRAIN)\n",
    "train_dataloader = DataLoader(train_dataset, \n",
    "                              batch_size=batch_size, \n",
    "                              sampler=sampler.SubsetRandomSampler(range(NUM_TRAIN)))\n",
    "\n",
    "val_dataset = ValidationDataset()\n",
    "val_dataloader = DataLoader(val_dataset,\n",
    "                            batch_size=4)\n",
    "\n",
    "class OneLayerNet(nn.Module):\n",
    "    \n",
    "    def __init__(self):\n",
    "        super(OneLayerNet, self).__init__()\n",
    "        self.fc1 = nn.Linear(2,1)\n",
    "        \n",
    "    def forward(self, x):\n",
    "        return self.fc1(x)\n",
    "    \n",
    "model = OneLayerNet()"
   ]
  },
  {
   "cell_type": "code",
   "execution_count": 40,
   "metadata": {},
   "outputs": [
    {
     "name": "stdout",
     "output_type": "stream",
     "text": [
      "tensor([-0.3916, -0.9593, -0.1542, -0.7219], grad_fn=<ViewBackward>)\n",
      "tensor([0, 0, 0, 0])\n"
     ]
    }
   ],
   "source": [
    "epochs = 1\n",
    "val_accuracy_hist = []\n",
    "loss_hist = []\n",
    "device = 'cpu'\n",
    "\n",
    "model = model.to(device=device)\n",
    "for e in range(epochs):\n",
    "    for phase in ['train', 'val']:\n",
    "        \n",
    "        if phase == 'train':\n",
    "            model.train()\n",
    "            for t, (x,y) in enumerate(train_dataloader):\n",
    "                x = x.to(device=device, dtype=torch.float32)\n",
    "                y = y.to(device=device, dtype=torch.float32)\n",
    "                score = model(x).view(-1)\n",
    "                loss = F.binary_cross_entropy(F.sigmoid(score),y)\n",
    "                \n",
    "                loss.backward()\n",
    "                \n",
    "        elif phase == 'val':\n",
    "            model.eval()\n",
    "            for t, (x,y) in enumerate(val_dataloader):\n",
    "                x = x.to(device=device, dtype=torch.float32)\n",
    "                y = y.to(device=device, dtype=torch.float32)\n",
    "                score = model(x).view(-1)\n",
    "                loss = F.binary_cross_entropy(F.sigmoid(score),y)\n",
    "                loss_hist.append(loss)\n",
    "                print(score)\n",
    "                print(pred)\n",
    "                "
   ]
  }
 ],
 "metadata": {
  "kernelspec": {
   "display_name": "Python 3",
   "language": "python",
   "name": "python3"
  },
  "language_info": {
   "codemirror_mode": {
    "name": "ipython",
    "version": 3
   },
   "file_extension": ".py",
   "mimetype": "text/x-python",
   "name": "python",
   "nbconvert_exporter": "python",
   "pygments_lexer": "ipython3",
   "version": "3.7.3"
  }
 },
 "nbformat": 4,
 "nbformat_minor": 2
}
